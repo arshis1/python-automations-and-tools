{
 "cells": [
  {
   "cell_type": "code",
   "execution_count": 43,
   "id": "6be1bf02",
   "metadata": {},
   "outputs": [],
   "source": [
    "numbers = [1,2,3,3,4,12,4,4,5]"
   ]
  },
  {
   "cell_type": "code",
   "execution_count": 45,
   "id": "a86af5e2",
   "metadata": {},
   "outputs": [],
   "source": [
    "numbers.sort()"
   ]
  },
  {
   "cell_type": "code",
   "execution_count": 26,
   "id": "308bb859",
   "metadata": {},
   "outputs": [
    {
     "name": "stdout",
     "output_type": "stream",
     "text": [
      "[1, 2, 3, 3, 4, 4, 4, 5, 12]\n",
      "[1, 2, 3, 4, 5, 12]\n"
     ]
    }
   ],
   "source": [
    "print(numbers)\n",
    "unique = []\n",
    "for number in numbers:\n",
    "    if number not in unique:\n",
    "        unique.append(number)\n",
    "        \n",
    "print(unique)"
   ]
  },
  {
   "cell_type": "code",
   "execution_count": 31,
   "id": "8b2831fb",
   "metadata": {},
   "outputs": [
    {
     "name": "stdout",
     "output_type": "stream",
     "text": [
      "[1, 2, 3, 3, 4, 4, 4, 5, 12]\n",
      "[1, 2, 3, 4, 4, 5, 12]\n"
     ]
    }
   ],
   "source": [
    "print(numbers)\n",
    "last_num = 0\n",
    "for number in numbers:\n",
    "    \n",
    "    if number == last_num and numbers.index(number) != 0:\n",
    "        numbers.remove(number)\n",
    "    last_num=number\n",
    "print(numbers)"
   ]
  },
  {
   "cell_type": "code",
   "execution_count": 32,
   "id": "3d8f7ee8",
   "metadata": {},
   "outputs": [],
   "source": [
    "numbers.append(20)"
   ]
  },
  {
   "cell_type": "code",
   "execution_count": 48,
   "id": "6255779c",
   "metadata": {},
   "outputs": [
    {
     "name": "stdout",
     "output_type": "stream",
     "text": [
      "[12, 5, 4, 4, 4, 3, 3, 2, 1]\n"
     ]
    }
   ],
   "source": [
    "print(numbers)"
   ]
  },
  {
   "cell_type": "code",
   "execution_count": 34,
   "id": "74b209e0",
   "metadata": {},
   "outputs": [],
   "source": [
    "numbers.insert(0, 12)"
   ]
  },
  {
   "cell_type": "code",
   "execution_count": 36,
   "id": "60e3a7b6",
   "metadata": {},
   "outputs": [],
   "source": [
    "numbers.remove(12)\n",
    "number.clear()"
   ]
  },
  {
   "cell_type": "code",
   "execution_count": 41,
   "id": "3687ae37",
   "metadata": {},
   "outputs": [
    {
     "data": {
      "text/plain": [
       "20"
      ]
     },
     "execution_count": 41,
     "metadata": {},
     "output_type": "execute_result"
    }
   ],
   "source": [
    "numbers.pop()"
   ]
  },
  {
   "cell_type": "code",
   "execution_count": 42,
   "id": "84b45453",
   "metadata": {},
   "outputs": [
    {
     "name": "stdout",
     "output_type": "stream",
     "text": [
      "False\n"
     ]
    }
   ],
   "source": [
    "print(50 in numbers)"
   ]
  },
  {
   "cell_type": "code",
   "execution_count": 44,
   "id": "796a8848",
   "metadata": {},
   "outputs": [
    {
     "data": {
      "text/plain": [
       "3"
      ]
     },
     "execution_count": 44,
     "metadata": {},
     "output_type": "execute_result"
    }
   ],
   "source": [
    "numbers.count(4)"
   ]
  },
  {
   "cell_type": "code",
   "execution_count": 47,
   "id": "079cdb75",
   "metadata": {},
   "outputs": [],
   "source": [
    "numbers.reverse()"
   ]
  },
  {
   "cell_type": "code",
   "execution_count": 49,
   "id": "9d29efa4",
   "metadata": {},
   "outputs": [],
   "source": [
    "num1 = numbers.copy()"
   ]
  },
  {
   "cell_type": "code",
   "execution_count": 50,
   "id": "17c83056",
   "metadata": {},
   "outputs": [
    {
     "name": "stdout",
     "output_type": "stream",
     "text": [
      "[12, 5, 4, 4, 4, 3, 3, 2, 1]\n"
     ]
    }
   ],
   "source": [
    "print(num1)"
   ]
  },
  {
   "cell_type": "code",
   "execution_count": 51,
   "id": "bce35a5e",
   "metadata": {},
   "outputs": [],
   "source": [
    "#tuples\n",
    "tup = (1,2,3)\n"
   ]
  },
  {
   "cell_type": "code",
   "execution_count": 52,
   "id": "9bc754ce",
   "metadata": {},
   "outputs": [
    {
     "data": {
      "text/plain": [
       "1"
      ]
     },
     "execution_count": 52,
     "metadata": {},
     "output_type": "execute_result"
    }
   ],
   "source": [
    "tup[0]"
   ]
  },
  {
   "cell_type": "code",
   "execution_count": 53,
   "id": "e78f3837",
   "metadata": {},
   "outputs": [],
   "source": [
    "x, y, z = tup"
   ]
  },
  {
   "cell_type": "code",
   "execution_count": 54,
   "id": "49f65a4e",
   "metadata": {},
   "outputs": [
    {
     "data": {
      "text/plain": [
       "1"
      ]
     },
     "execution_count": 54,
     "metadata": {},
     "output_type": "execute_result"
    }
   ],
   "source": [
    "x"
   ]
  },
  {
   "cell_type": "code",
   "execution_count": 1,
   "id": "79c6bdff",
   "metadata": {},
   "outputs": [],
   "source": [
    "#dictionary \n",
    "#key value pairs\n",
    "\n",
    "customer = {\n",
    "    \"name\": \"John Smith\",\n",
    "    \"age\":30,\n",
    "    \"is_verified\": True\n",
    "}\n"
   ]
  },
  {
   "cell_type": "code",
   "execution_count": 2,
   "id": "9ff8a09b",
   "metadata": {},
   "outputs": [
    {
     "data": {
      "text/plain": [
       "'John Smith'"
      ]
     },
     "execution_count": 2,
     "metadata": {},
     "output_type": "execute_result"
    }
   ],
   "source": [
    "customer[\"name\"]"
   ]
  },
  {
   "cell_type": "code",
   "execution_count": 3,
   "id": "a02d098b",
   "metadata": {},
   "outputs": [
    {
     "data": {
      "text/plain": [
       "'John Smith'"
      ]
     },
     "execution_count": 3,
     "metadata": {},
     "output_type": "execute_result"
    }
   ],
   "source": [
    "customer.get(\"name\")"
   ]
  },
  {
   "cell_type": "code",
   "execution_count": 4,
   "id": "1c2ad602",
   "metadata": {},
   "outputs": [
    {
     "data": {
      "text/plain": [
       "'Jan 1 1980'"
      ]
     },
     "execution_count": 4,
     "metadata": {},
     "output_type": "execute_result"
    }
   ],
   "source": [
    "customer.get(\"birthdate\", \"Jan 1 1980\")"
   ]
  },
  {
   "cell_type": "code",
   "execution_count": 10,
   "id": "5b3c1bee",
   "metadata": {},
   "outputs": [],
   "source": [
    "customer.update({\"birthdate\" :\"Jan 1 1980\"})"
   ]
  },
  {
   "cell_type": "code",
   "execution_count": 11,
   "id": "88d11d9d",
   "metadata": {},
   "outputs": [
    {
     "data": {
      "text/plain": [
       "dict_values(['John Smith', 30, True, 'Jan 1 1980'])"
      ]
     },
     "execution_count": 11,
     "metadata": {},
     "output_type": "execute_result"
    }
   ],
   "source": [
    "customer.values()"
   ]
  },
  {
   "cell_type": "code",
   "execution_count": 12,
   "id": "dc6af6e8",
   "metadata": {},
   "outputs": [
    {
     "data": {
      "text/plain": [
       "dict_keys(['name', 'age', 'is_verified', 'birthdate'])"
      ]
     },
     "execution_count": 12,
     "metadata": {},
     "output_type": "execute_result"
    }
   ],
   "source": [
    "customer.keys()"
   ]
  },
  {
   "cell_type": "code",
   "execution_count": 14,
   "id": "eed8e737",
   "metadata": {},
   "outputs": [],
   "source": [
    "phone_num_dict = {\n",
    "    \"1\": \"One\"  ,\n",
    "    \"2\": \"Two\",\n",
    "    \"3\": \"Three\",\n",
    "    \"4\": \"Four\",\n",
    "    \"5\": \"Five\",\n",
    "    \"6\": \"Six\",\n",
    "    \"7\": \"Seven\",\n",
    "    \"8\": \"Eight\",\n",
    "    \"9\": \"Nine\",\n",
    "    \"0\": \"Zero\"\n",
    "}"
   ]
  },
  {
   "cell_type": "code",
   "execution_count": 15,
   "id": "e8383537",
   "metadata": {},
   "outputs": [
    {
     "data": {
      "text/plain": [
       "{'1': 'One',\n",
       " '2': 'Two',\n",
       " '3': 'Three',\n",
       " '4': 'Four',\n",
       " '5': 'Five',\n",
       " '6': 'Six',\n",
       " '7': 'Seven',\n",
       " '8': 'Eight',\n",
       " '9': 'Nine',\n",
       " '0': 'Zero'}"
      ]
     },
     "execution_count": 15,
     "metadata": {},
     "output_type": "execute_result"
    }
   ],
   "source": [
    "phone_num_dict"
   ]
  },
  {
   "cell_type": "code",
   "execution_count": 16,
   "id": "a2351223",
   "metadata": {},
   "outputs": [
    {
     "data": {
      "text/plain": [
       "dict_values(['One', 'Two', 'Three', 'Four', 'Five', 'Six', 'Seven', 'Eight', 'Nine', 'Zero'])"
      ]
     },
     "execution_count": 16,
     "metadata": {},
     "output_type": "execute_result"
    }
   ],
   "source": [
    "phone_num_dict.values()"
   ]
  },
  {
   "cell_type": "code",
   "execution_count": 17,
   "id": "89091cf0",
   "metadata": {},
   "outputs": [
    {
     "data": {
      "text/plain": [
       "dict_keys(['1', '2', '3', '4', '5', '6', '7', '8', '9', '0'])"
      ]
     },
     "execution_count": 17,
     "metadata": {},
     "output_type": "execute_result"
    }
   ],
   "source": [
    "phone_num_dict.keys()\n"
   ]
  },
  {
   "cell_type": "code",
   "execution_count": 30,
   "id": "b6ecf6b7",
   "metadata": {},
   "outputs": [
    {
     "name": "stdout",
     "output_type": "stream",
     "text": [
      "Enter Phone Number: 12548/\n",
      "One Two Five Four Eight ? \n"
     ]
    }
   ],
   "source": [
    "################## number to words game ##########\n",
    "\n",
    "user_input = input(\"Enter Phone Number: \")\n",
    "output_list = \"\"\n",
    "for numbers in user_input: \n",
    "    #print(phone_num_dict[numbers])\n",
    "    output_list += phone_num_dict.get(numbers, \"?\") + \" \"\n",
    "    # better handling \n",
    "   # output_list.append(phone_num_dict[numbers])\n",
    "\n",
    "print(output_list)"
   ]
  },
  {
   "cell_type": "code",
   "execution_count": 32,
   "id": "4bb96fdb",
   "metadata": {},
   "outputs": [],
   "source": [
    "###"
   ]
  },
  {
   "cell_type": "code",
   "execution_count": 39,
   "id": "80afab39",
   "metadata": {},
   "outputs": [
    {
     "name": "stdout",
     "output_type": "stream",
     "text": [
      "Collecting emoji\n",
      "  Downloading emoji-1.7.0.tar.gz (175 kB)\n",
      "Building wheels for collected packages: emoji\n",
      "  Building wheel for emoji (setup.py): started\n",
      "  Building wheel for emoji (setup.py): finished with status 'done'\n",
      "  Created wheel for emoji: filename=emoji-1.7.0-py3-none-any.whl size=171030 sha256=920678fcf27dbbbde0f44730d61ed246244cf734d5347792375b8f0166eb5bd1\n",
      "  Stored in directory: c:\\users\\arshiya\\appdata\\local\\pip\\cache\\wheels\\5e\\8c\\80\\c3646df8201ba6f5070297fe3779a4b70265d0bfd961c15302\n",
      "Successfully built emoji\n",
      "Installing collected packages: emoji\n",
      "Successfully installed emoji-1.7.0\n",
      "Note: you may need to restart the kernel to use updated packages.\n"
     ]
    }
   ],
   "source": [
    "pip install emoji --upgrade"
   ]
  },
  {
   "cell_type": "code",
   "execution_count": 55,
   "id": "5a9bcd85",
   "metadata": {},
   "outputs": [],
   "source": [
    "import emoji"
   ]
  },
  {
   "cell_type": "code",
   "execution_count": 54,
   "id": "7cfb3382",
   "metadata": {},
   "outputs": [
    {
     "name": "stdout",
     "output_type": "stream",
     "text": [
      "Phd is very easy!!! 👍\n"
     ]
    }
   ],
   "source": [
    "print(emoji.emojize('Phd is very easy!!! :thumbs_up:'))"
   ]
  },
  {
   "cell_type": "code",
   "execution_count": 62,
   "id": "70ec7a05",
   "metadata": {},
   "outputs": [
    {
     "name": "stdout",
     "output_type": "stream",
     "text": [
      ">:(\n",
      "☺️ \n"
     ]
    }
   ],
   "source": [
    "########game to return emoji \n",
    "message = input(\">\")\n",
    "words = message.split(\" \")\n",
    "smile = emoji.emojize(':thumbs_up:')\n",
    "sad = emoji.emojize(':smiling_face:')\n",
    "emojis = { \n",
    "    \":)\": smile,\n",
    "    \":(\": sad\n",
    "}\n",
    "\n",
    "output = \"\"\n",
    "for word in words:\n",
    "    output +=  emojis.get(word, word) +  \" \"\n",
    "\n",
    "print ( output)"
   ]
  }
 ],
 "metadata": {
  "kernelspec": {
   "display_name": "Python 3",
   "language": "python",
   "name": "python3"
  },
  "language_info": {
   "codemirror_mode": {
    "name": "ipython",
    "version": 3
   },
   "file_extension": ".py",
   "mimetype": "text/x-python",
   "name": "python",
   "nbconvert_exporter": "python",
   "pygments_lexer": "ipython3",
   "version": "3.8.8"
  }
 },
 "nbformat": 4,
 "nbformat_minor": 5
}
