{
 "cells": [
  {
   "cell_type": "code",
   "execution_count": null,
   "id": "13c8e14b",
   "metadata": {},
   "outputs": [],
   "source": [
    "##always find func first "
   ]
  },
  {
   "cell_type": "code",
   "execution_count": null,
   "id": "6d15ec18",
   "metadata": {},
   "outputs": [],
   "source": [
    "#pass information to funcstions: Resuability , parameter is defined,\n",
    "# argument what you send, it is required\n",
    "#mixing posaitional and keyword: al;ways positionsl first "
   ]
  },
  {
   "cell_type": "code",
   "execution_count": 1,
   "id": "88ed49f0",
   "metadata": {},
   "outputs": [],
   "source": [
    "###emoji function\n",
    "import emoji\n",
    "def return_emoji(message):\n",
    "    words = message.split(\" \")\n",
    "    smile = emoji.emojize(':thumbs_up:')\n",
    "    sad = emoji.emojize(':smiling_face:')\n",
    "    emojis = {\n",
    "        \":)\": smile,\n",
    "        \":(\": sad\n",
    "    }\n",
    "    output = \"\"\n",
    "    for word in words:\n",
    "        output +=  emojis.get(word, word) +  \" \"\n",
    "    return output\n",
    "\n",
    "    \n",
    "    \n"
   ]
  },
  {
   "cell_type": "code",
   "execution_count": 2,
   "id": "8edc7b5a",
   "metadata": {},
   "outputs": [
    {
     "name": "stdout",
     "output_type": "stream",
     "text": [
      ">:) hello\n"
     ]
    },
    {
     "data": {
      "text/plain": [
       "'👍 hello '"
      ]
     },
     "execution_count": 2,
     "metadata": {},
     "output_type": "execute_result"
    }
   ],
   "source": [
    "message = input(\">\")\n",
    "return_emoji(message)"
   ]
  },
  {
   "cell_type": "code",
   "execution_count": 7,
   "id": "1acd128c",
   "metadata": {},
   "outputs": [
    {
     "name": "stdout",
     "output_type": "stream",
     "text": [
      "Age: 0\n",
      "Age cannot be zero\n"
     ]
    }
   ],
   "source": [
    "###error handling \n",
    "try:\n",
    "    age = int(input('Age: '))\n",
    "    income = 2000\n",
    "    risk = income/age\n",
    "    print(age)\n",
    "except ValueError:\n",
    "    print('Invalid Values')\n",
    "except ZeroDivisionError:\n",
    "    print('Age cannot be zero')"
   ]
  },
  {
   "cell_type": "code",
   "execution_count": null,
   "id": "8654a82d",
   "metadata": {},
   "outputs": [],
   "source": [
    "##CLasses\n",
    "#define new types of things"
   ]
  },
  {
   "cell_type": "code",
   "execution_count": 12,
   "id": "731cbc26",
   "metadata": {},
   "outputs": [
    {
     "name": "stdout",
     "output_type": "stream",
     "text": [
      "draw\n",
      "10\n",
      "10\n"
     ]
    }
   ],
   "source": [
    "class Point:\n",
    "    def __init__(self, x, y):\n",
    "        self.x = x\n",
    "        self.y = y\n",
    "    \n",
    "    def move(self):\n",
    "        print(\"move\")\n",
    "        \n",
    "    def draw(self):\n",
    "        print(\"draw\")\n",
    "\n",
    "point1 = Point(1,1)\n",
    "point1.draw()\n",
    "point1.x= 10 \n",
    "point1.y= 30 \n",
    "\n",
    "print(point1.x)\n",
    "\n",
    "point = Point(10, 20)\n",
    "print(point.x)"
   ]
  },
  {
   "cell_type": "code",
   "execution_count": 22,
   "id": "7234ad08",
   "metadata": {},
   "outputs": [
    {
     "name": "stdout",
     "output_type": "stream",
     "text": [
      "Hi I'm Arshis\n",
      "Arshis\n"
     ]
    }
   ],
   "source": [
    "class Person:\n",
    "    \n",
    "    def __init__(self, name):\n",
    "        self.name = name\n",
    "    \n",
    "    def talk(self):\n",
    "        print(\"Hi I'm %s\" %(self.name))\n",
    "        \n",
    "\n",
    "p = Person( \"Arshis\")\n",
    "p.talk()\n",
    "print(p.name)"
   ]
  },
  {
   "cell_type": "code",
   "execution_count": 23,
   "id": "072bee86",
   "metadata": {},
   "outputs": [
    {
     "name": "stdout",
     "output_type": "stream",
     "text": [
      "walk\n",
      "bark\n",
      "walk\n",
      "Meow\n"
     ]
    }
   ],
   "source": [
    "## Inheritance\n",
    "class Mammal:\n",
    "    def walk(self):\n",
    "        print(\"walk\")\n",
    "    \n",
    "class Dog(Mammal):\n",
    "    def bark(self):\n",
    "        print(\"bark\")\n",
    "\n",
    "class Cat(Mammal):\n",
    "    def meow(self):\n",
    "        print(\"Meow\")\n",
    "\n",
    "dog1 = Dog()\n",
    "dog1.walk()\n",
    "dog1.bark()\n",
    "\n",
    "cat1 = Cat()\n",
    "cat1.walk()\n",
    "cat1.meow()\n",
    "\n"
   ]
  },
  {
   "cell_type": "code",
   "execution_count": null,
   "id": "b499bb78",
   "metadata": {},
   "outputs": [],
   "source": []
  }
 ],
 "metadata": {
  "kernelspec": {
   "display_name": "Python 3",
   "language": "python",
   "name": "python3"
  },
  "language_info": {
   "codemirror_mode": {
    "name": "ipython",
    "version": 3
   },
   "file_extension": ".py",
   "mimetype": "text/x-python",
   "name": "python",
   "nbconvert_exporter": "python",
   "pygments_lexer": "ipython3",
   "version": "3.8.8"
  }
 },
 "nbformat": 4,
 "nbformat_minor": 5
}
