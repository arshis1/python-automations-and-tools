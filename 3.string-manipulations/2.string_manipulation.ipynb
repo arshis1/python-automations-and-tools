{
 "cells": [
  {
   "cell_type": "code",
   "execution_count": 1,
   "id": "248f912d",
   "metadata": {},
   "outputs": [
    {
     "name": "stdout",
     "output_type": "stream",
     "text": [
      "['Simple', 'String']\n"
     ]
    }
   ],
   "source": [
    "#1.How to Split a String in Python\n",
    "s = \"Simple String\"\n",
    "split_string = s.split(' ')\n",
    "print(split_string)"
   ]
  },
  {
   "cell_type": "code",
   "execution_count": 35,
   "id": "0e323dec",
   "metadata": {},
   "outputs": [
    {
     "name": "stdout",
     "output_type": "stream",
     "text": [
      "['', '', 'A', 'boy', '', '', '', '', 'dances', '!', '']\n",
      "!Ab o yd a n c e s!Ab o yd a n c e s!Ab o yd a n c e s!Ab o yd a n c e s!Ab o yd a n c e s!Ab o yd a n c e s!Ab o yd a n c e s!\n"
     ]
    }
   ],
   "source": [
    "#.How to remove all white spaces in a string in Python\n",
    "#compare = 'abcdefghijklmnopqrstuvwxyzABCDEFGHIJKLMNOPQRSTUVWXYZ01234567890'\n",
    "s = \"  A boy     dances ! \"\n",
    "trim_string = s.split(' ')\n",
    "print(trim_string)\n",
    "for word in trim_string:\n",
    "    if word != \"\":\n",
    "        output += ' '.join(word)\n",
    "print(output)"
   ]
  }
 ],
 "metadata": {
  "kernelspec": {
   "display_name": "Python 3",
   "language": "python",
   "name": "python3"
  },
  "language_info": {
   "codemirror_mode": {
    "name": "ipython",
    "version": 3
   },
   "file_extension": ".py",
   "mimetype": "text/x-python",
   "name": "python",
   "nbconvert_exporter": "python",
   "pygments_lexer": "ipython3",
   "version": "3.8.10"
  }
 },
 "nbformat": 4,
 "nbformat_minor": 5
}
