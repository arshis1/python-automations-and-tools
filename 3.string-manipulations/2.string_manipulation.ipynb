{
 "cells": [
  {
   "cell_type": "code",
   "execution_count": 36,
   "id": "248f912d",
   "metadata": {},
   "outputs": [
    {
     "name": "stdout",
     "output_type": "stream",
     "text": [
      "['Simple', 'String']\n"
     ]
    }
   ],
   "source": [
    "#1.How to Split a String in Python\n",
    "s = \"Simple String\"\n",
    "split_string = s.split(' ')\n",
    "print(split_string)"
   ]
  },
  {
   "cell_type": "code",
   "execution_count": 39,
   "id": "0e323dec",
   "metadata": {},
   "outputs": [
    {
     "name": "stdout",
     "output_type": "stream",
     "text": [
      "Aboydances!\n",
      "Aboydances!\n"
     ]
    }
   ],
   "source": [
    "#.How to remove all white spaces in a string in Python\n",
    "s = \"  A boy     dances ! \"\n",
    "no_spaces = ''.join(s.split())\n",
    "print(no_spaces)\n",
    "\n",
    "#another way\n",
    "\n",
    "no_space = s.replace(\" \", \"\")\n",
    "print(no_space)"
   ]
  },
  {
   "cell_type": "code",
   "execution_count": 41,
   "id": "7cc8ac97",
   "metadata": {},
   "outputs": [
    {
     "name": "stdout",
     "output_type": "stream",
     "text": [
      "This is the first linwe\n",
      "This is the second line\n",
      " \n",
      "This is the last line\n"
     ]
    }
   ],
   "source": [
    "# 3. Multiline Strings in Python\n",
    "line1 = \"This is the first linwe\"\n",
    "line2 = \"This is the second line\"\n",
    "line3 = \" \"\n",
    "line4 = \"This is the last line\"\n",
    "\n",
    "\n",
    "multiline_string = f'''{line1}\n",
    "{line2}\n",
    "{line3}\n",
    "{line4}'''\n",
    "\n",
    "print(multiline_string)"
   ]
  },
  {
   "cell_type": "code",
   "execution_count": 44,
   "id": "d12809aa",
   "metadata": {},
   "outputs": [
    {
     "name": "stdout",
     "output_type": "stream",
     "text": [
      "                   This is a test line with emtpy spaces in the beginning and end           \n",
      "This is a test line with emtpy spaces in the beginning and end           \n",
      "                   This is a test line with emtpy spaces in the beginning and end\n",
      "This is a test line with emtpy spaces in the beginning and end\n",
      "This is a test line with emtpy spaces in the beginning and end\n"
     ]
    }
   ],
   "source": [
    "#4. lstrip(), rstrip(),strip : removing spaces and chars from the beginning of a string in Python\n",
    "s = \"                   This is a test line with emtpy spaces in the beginning and end           \"\n",
    "print(s)\n",
    "print(s.lstrip())\n",
    "print(s.rstrip())\n",
    "print(s.lstrip().rstrip())\n",
    "print(s.strip())\n"
   ]
  },
  {
   "cell_type": "code",
   "execution_count": null,
   "id": "98929eec",
   "metadata": {},
   "outputs": [
    {
     "name": "stdout",
     "output_type": "stream",
     "text": [
      "Upper:  THIS IS A LOWER CASE STRING.\n",
      "Lower:  this is a lower case string.\n",
      "Title This Is A Lower Case String.\n",
      "Capital: This is a lower case string.\n",
      "Swap case1: THIS IS A LOWER CASE STRING.\n",
      "Swap Case 2: this is a lower case string.\n"
     ]
    }
   ],
   "source": [
    "#5. Update the case of the string :lower , upper, title, captialize, swap case\n",
    "s = \"this is a lower case string.\"\n",
    "upper_s = s.upper()\n",
    "print(\"Upper: \" , upper_s)\n",
    "print(\"Lower: \", upper_s.lower())\n",
    "print(\"Title\", s.title())\n",
    "print(\"Capital:\",s.capitalize())\n",
    "print(\"Swap case1:\" ,s.swapcase())\n",
    "print(\"Swap Case 2:\", upper_s.swapcase())"
   ]
  },
  {
   "cell_type": "code",
   "execution_count": null,
   "id": "a13ccfc1",
   "metadata": {},
   "outputs": [
    {
     "name": "stdout",
     "output_type": "stream",
     "text": [
      "Not Empty\n"
     ]
    }
   ],
   "source": [
    "#6. check if string is empty \n",
    "s = input()\n",
    "if s ==\"\":\n",
    "    print(\"Empty\")\n",
    "else:\n",
    "    print(\"Not Empty\")"
   ]
  },
  {
   "cell_type": "code",
   "execution_count": null,
   "id": "b1148d83",
   "metadata": {},
   "outputs": [
    {
     "name": "stdout",
     "output_type": "stream",
     "text": [
      " This is a string with no alignment\n",
      " This is a string with no alignment\n",
      " This is a string with no alignment\n",
      " This is a string with no alignment               \n",
      "--------------- This is a string with no alignment\n"
     ]
    }
   ],
   "source": [
    "#7. Alignment of string\n",
    "s = \" This is a string with no alignment\"\n",
    "\n",
    "print(s.ljust(10))\n",
    "print(s.rjust(10))\n",
    "print(s.center(10))\n",
    "print(s.ljust(50))\n",
    "print(s.rjust(50, \"-\"))"
   ]
  },
  {
   "cell_type": "code",
   "execution_count": 71,
   "id": "294834a0",
   "metadata": {},
   "outputs": [
    {
     "name": "stdout",
     "output_type": "stream",
     "text": [
      "False\n",
      "True\n",
      "True\n",
      "False\n",
      "False\n",
      "False\n",
      "True\n",
      "True\n",
      "True\n",
      "True\n",
      "True\n",
      "True\n",
      "False\n",
      "True\n",
      "True\n"
     ]
    }
   ],
   "source": [
    "#8. Check if all characters in a string are alphanumeric, printable, space, upper, lower, numeric, digit, decimal, alpha, title\n",
    "'''\n",
    "isalnum(): checking alphanumeric only in a string in Python\n",
    "isprintable(): checking printable characters in a string in Python\n",
    "isspace(): checking white space only in a string in Python\n",
    "isupper(): checking upper case only in a string in Python\n",
    "islower(): checking lower case only in a string in Python\n",
    "isnumeric(): checking numerics only in a string in Python\n",
    "isdigit(): checking digits only in a string in Python\n",
    "isdecimal(): checking decimals only in a string in Python\n",
    "isalpha(): checking letters only in a string in Python\n",
    "istitle(): checking if every word begins with an upper case char in a string in Python\n",
    "'''\n",
    "s1 = \"12Abx%'\"\n",
    "s2 = \"Acat234\"\n",
    "print(s1.isalnum())\n",
    "print(s2.isalnum())\n",
    "\n",
    "s3 = \"\\nv///\"\n",
    "print(s1.isprintable())\n",
    "print(s3.isprintable())\n",
    "\n",
    "s4 = \"A Child\"\n",
    "s5 = \"\" \n",
    "s6 = \" \"\n",
    "print(s4.isspace())\n",
    "print(s5.isspace())\n",
    "print(s6.isspace())\n",
    "\n",
    "s7 = \"UPPERRR\"\n",
    "print(s7.isupper())\n",
    "\n",
    "s8 = \"lower\"\n",
    "print(s8.islower())\n",
    "\n",
    "s9 = \"12345\" \n",
    "s10 = \"1.1\"\n",
    "print(s9.isnumeric())\n",
    "print(s9.isdigit())\n",
    "print(s9.isdecimal())\n",
    "print(s10.isdecimal())\n",
    "\n",
    "\n",
    "print(s7.isalpha())\n",
    "\n",
    "print(s4.istitle())\n",
    "\n"
   ]
  },
  {
   "cell_type": "code",
   "execution_count": null,
   "id": "ca23a247",
   "metadata": {},
   "outputs": [],
   "source": []
  }
 ],
 "metadata": {
  "kernelspec": {
   "display_name": "Python 3",
   "language": "python",
   "name": "python3"
  },
  "language_info": {
   "codemirror_mode": {
    "name": "ipython",
    "version": 3
   },
   "file_extension": ".py",
   "mimetype": "text/x-python",
   "name": "python",
   "nbconvert_exporter": "python",
   "pygments_lexer": "ipython3",
   "version": "3.8.10"
  }
 },
 "nbformat": 4,
 "nbformat_minor": 5
}
