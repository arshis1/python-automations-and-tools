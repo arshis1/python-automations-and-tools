{
 "cells": [
  {
   "cell_type": "code",
   "execution_count": 1,
   "id": "f2ce207b",
   "metadata": {},
   "outputs": [
    {
     "name": "stdout",
     "output_type": "stream",
     "text": [
      "Hello World\n"
     ]
    }
   ],
   "source": [
    "print(\"Hello World\")"
   ]
  },
  {
   "cell_type": "code",
   "execution_count": 2,
   "id": "2c7be71d",
   "metadata": {},
   "outputs": [
    {
     "name": "stdout",
     "output_type": "stream",
     "text": [
      "Arshiya Shaikh\n"
     ]
    }
   ],
   "source": [
    "print(\"Arshiya Shaikh\")"
   ]
  },
  {
   "cell_type": "code",
   "execution_count": 3,
   "id": "61bce61f",
   "metadata": {},
   "outputs": [
    {
     "name": "stdout",
     "output_type": "stream",
     "text": [
      "o----\n",
      "  ||||\n"
     ]
    }
   ],
   "source": [
    "#draw a dog\n",
    "print ('o----')\n",
    "print('  ||||')"
   ]
  },
  {
   "cell_type": "code",
   "execution_count": 19,
   "id": "659a820d",
   "metadata": {},
   "outputs": [
    {
     "name": "stdout",
     "output_type": "stream",
     "text": [
      "**********\n"
     ]
    }
   ],
   "source": [
    "print(\"*\" * 10) #multiply strings\n",
    "#expression is code that produces a values\n",
    "#interpreter evaluates the expression\n",
    "#python executes line by line"
   ]
  },
  {
   "cell_type": "code",
   "execution_count": 20,
   "id": "8ec507da",
   "metadata": {},
   "outputs": [],
   "source": [
    "#var stores data in memeory temporarily\n",
    "price = 10"
   ]
  },
  {
   "cell_type": "code",
   "execution_count": 21,
   "id": "713c3455",
   "metadata": {},
   "outputs": [
    {
     "data": {
      "text/plain": [
       "int"
      ]
     },
     "execution_count": 21,
     "metadata": {},
     "output_type": "execute_result"
    }
   ],
   "source": [
    "price\n",
    "type(price)"
   ]
  },
  {
   "cell_type": "code",
   "execution_count": 14,
   "id": "3e82fb20",
   "metadata": {},
   "outputs": [
    {
     "data": {
      "text/plain": [
       "float"
      ]
     },
     "execution_count": 14,
     "metadata": {},
     "output_type": "execute_result"
    }
   ],
   "source": [
    "rating = 4.9\n",
    "type(rating)"
   ]
  },
  {
   "cell_type": "code",
   "execution_count": 15,
   "id": "804859b1",
   "metadata": {},
   "outputs": [],
   "source": [
    "is_published = True "
   ]
  },
  {
   "cell_type": "code",
   "execution_count": 82,
   "id": "0f00be37",
   "metadata": {},
   "outputs": [],
   "source": [
    "name = \"John Smith\"\n",
    "age = 20\n",
    "is_new = True"
   ]
  },
  {
   "cell_type": "code",
   "execution_count": 24,
   "id": "add78d40",
   "metadata": {},
   "outputs": [
    {
     "name": "stdout",
     "output_type": "stream",
     "text": [
      "what is your name? Arshiya\n",
      "What is your favorite color? Blue\n",
      "Arshiya likes Blue\n"
     ]
    }
   ],
   "source": [
    "#user input\n",
    "in_name = input(\"what is your name? \") #() paranthesis is used to call a fuunc\n",
    "\n",
    "in_color = input(\"What is your favorite color? \")\n",
    "print( in_name + ' likes ' + in_color)"
   ]
  },
  {
   "cell_type": "code",
   "execution_count": 32,
   "id": "54357ac5",
   "metadata": {},
   "outputs": [],
   "source": [
    "\n",
    "message = f'Hi, my name is {name}'"
   ]
  },
  {
   "cell_type": "code",
   "execution_count": 33,
   "id": "1bf8e014",
   "metadata": {},
   "outputs": [
    {
     "name": "stdout",
     "output_type": "stream",
     "text": [
      "HI, MY NAME IS JOHN SMITH\n"
     ]
    }
   ],
   "source": [
    "print(message.upper())"
   ]
  },
  {
   "cell_type": "code",
   "execution_count": 41,
   "id": "156e5898",
   "metadata": {},
   "outputs": [],
   "source": [
    "m1 = ('Hi name is %s '  %name)"
   ]
  },
  {
   "cell_type": "code",
   "execution_count": 42,
   "id": "dfbb69c6",
   "metadata": {},
   "outputs": [
    {
     "name": "stdout",
     "output_type": "stream",
     "text": [
      "Hi name is John Smith \n"
     ]
    }
   ],
   "source": [
    "print(m1)"
   ]
  },
  {
   "cell_type": "code",
   "execution_count": 43,
   "id": "9ba875f1",
   "metadata": {},
   "outputs": [
    {
     "data": {
      "text/plain": [
       "'Hi, My Name Is John Smith'"
      ]
     },
     "execution_count": 43,
     "metadata": {},
     "output_type": "execute_result"
    }
   ],
   "source": [
    "message.title() "
   ]
  },
  {
   "cell_type": "code",
   "execution_count": 45,
   "id": "b8fad894",
   "metadata": {},
   "outputs": [
    {
     "data": {
      "text/plain": [
       "7"
      ]
     },
     "execution_count": 45,
     "metadata": {},
     "output_type": "execute_result"
    }
   ],
   "source": [
    "message.find('n') "
   ]
  },
  {
   "cell_type": "code",
   "execution_count": 48,
   "id": "8b0226dc",
   "metadata": {},
   "outputs": [
    {
     "name": "stdout",
     "output_type": "stream",
     "text": [
      "1\n",
      "2\n",
      "3\n",
      "4\n",
      "0\n",
      "1\n",
      "2\n",
      "3\n",
      "4\n",
      "1\n",
      "3\n"
     ]
    }
   ],
   "source": [
    "for i in range(1, 5):\n",
    "    print(i)\n",
    "\n",
    "for i in range(5):\n",
    "    print(i)\n",
    "    \n",
    "for i in range(1,5,2):\n",
    "    print(i)"
   ]
  },
  {
   "cell_type": "code",
   "execution_count": 52,
   "id": "b9f925df",
   "metadata": {},
   "outputs": [
    {
     "name": "stdout",
     "output_type": "stream",
     "text": [
      "Collecting datetime\n",
      "  Downloading DateTime-4.4-py2.py3-none-any.whl (51 kB)\n",
      "Requirement already satisfied: zope.interface in c:\\users\\arshiya\\anaconda3\\lib\\site-packages (from datetime) (5.3.0)\n",
      "Requirement already satisfied: pytz in c:\\users\\arshiya\\anaconda3\\lib\\site-packages (from datetime) (2021.1)\n",
      "Requirement already satisfied: setuptools in c:\\users\\arshiya\\anaconda3\\lib\\site-packages (from zope.interface->datetime) (52.0.0.post20210125)\n",
      "Installing collected packages: datetime\n",
      "Successfully installed datetime-4.4\n",
      "Note: you may need to restart the kernel to use updated packages.\n"
     ]
    }
   ],
   "source": [
    "pip install datetime"
   ]
  },
  {
   "cell_type": "code",
   "execution_count": 59,
   "id": "8b287f79",
   "metadata": {},
   "outputs": [
    {
     "name": "stdout",
     "output_type": "stream",
     "text": [
      "what is your birth year1992\n",
      "Your age is 30\n"
     ]
    }
   ],
   "source": [
    "from datetime import date \n",
    "\n",
    "curr_yr = date.today().year\n",
    "birth_yr = (input('what is your birth year'))\n",
    "\n",
    "age = curr_yr - int(birth_yr ) \n",
    "print( \"Your age is %s\" %age)"
   ]
  },
  {
   "cell_type": "code",
   "execution_count": 61,
   "id": "21684ba8",
   "metadata": {},
   "outputs": [
    {
     "name": "stdout",
     "output_type": "stream",
     "text": [
      "what is your weigth in pounds152\n",
      "Weight is kg is: 68.945984\n"
     ]
    }
   ],
   "source": [
    "wt_lb = input(\"what is your weigth in pounds\")\n",
    "\n",
    "wt_kg = float(wt_lb) * 0.453592\n",
    "print (\"Weight is kg is: %s\" %wt_kg)"
   ]
  },
  {
   "cell_type": "code",
   "execution_count": 62,
   "id": "1a103a63",
   "metadata": {},
   "outputs": [
    {
     "data": {
      "text/plain": [
       "-1"
      ]
     },
     "execution_count": 62,
     "metadata": {},
     "output_type": "execute_result"
    }
   ],
   "source": [
    "name.find('a')"
   ]
  },
  {
   "cell_type": "code",
   "execution_count": 63,
   "id": "15e8f776",
   "metadata": {},
   "outputs": [
    {
     "data": {
      "text/plain": [
       "'John Smith'"
      ]
     },
     "execution_count": 63,
     "metadata": {},
     "output_type": "execute_result"
    }
   ],
   "source": [
    "name.replace('A', 'a')"
   ]
  },
  {
   "cell_type": "code",
   "execution_count": 65,
   "id": "a3794e98",
   "metadata": {},
   "outputs": [
    {
     "name": "stdout",
     "output_type": "stream",
     "text": [
      "3\n",
      "2.9\n"
     ]
    }
   ],
   "source": [
    "x= 2.9\n",
    "\n",
    "print(round(x))\n",
    "print(abs(-2.9))"
   ]
  },
  {
   "cell_type": "code",
   "execution_count": 66,
   "id": "9bd4ba2b",
   "metadata": {},
   "outputs": [],
   "source": [
    "import math "
   ]
  },
  {
   "cell_type": "code",
   "execution_count": 68,
   "id": "67256bed",
   "metadata": {},
   "outputs": [
    {
     "data": {
      "text/plain": [
       "3.55"
      ]
     },
     "execution_count": 68,
     "metadata": {},
     "output_type": "execute_result"
    }
   ],
   "source": [
    "math.fabs(-3.55)"
   ]
  },
  {
   "cell_type": "code",
   "execution_count": 71,
   "id": "741a8939",
   "metadata": {},
   "outputs": [
    {
     "name": "stdout",
     "output_type": "stream",
     "text": [
      "It's a cold day\n",
      "Enjoy your day\n"
     ]
    }
   ],
   "source": [
    "is_hot = False;\n",
    "is_cold = True;\n",
    "\n",
    "if is_hot:\n",
    "    print(\"It's a hot day\\n Drink plenty of water\")\n",
    "elif is_cold: \n",
    "    print(\"It's a cold day\")\n",
    "else:\n",
    "    print(\"It's a lovely day\")\n",
    "print(\"Enjoy your day\")"
   ]
  },
  {
   "cell_type": "code",
   "execution_count": 78,
   "id": "c1f58200",
   "metadata": {},
   "outputs": [
    {
     "name": "stdout",
     "output_type": "stream",
     "text": [
      "Downpayment is $ 10000.0\n"
     ]
    }
   ],
   "source": [
    "is_goodcredit = True\n",
    "price_house = 100000\n",
    "\n",
    "if is_goodcredit:\n",
    "    dp = (10 * price_house)/100\n",
    "else: \n",
    "    dp = (20 * price_house)/100\n",
    "    \n",
    "print( \"Downpayment is $ %s\" %dp)\n"
   ]
  },
  {
   "cell_type": "code",
   "execution_count": 85,
   "id": "56ea7761",
   "metadata": {},
   "outputs": [
    {
     "name": "stdout",
     "output_type": "stream",
     "text": [
      "Name looks good\n"
     ]
    }
   ],
   "source": [
    "if len(name)< 3:\n",
    "    print(\"Name should be atleast 3 charchters long\")\n",
    "elif len(name)> 50:\n",
    "    print(\"Name can be maximumof 50 characters\")\n",
    "else:\n",
    "    print(\"Name looks good\")"
   ]
  },
  {
   "cell_type": "code",
   "execution_count": 92,
   "id": "19ea3b88",
   "metadata": {},
   "outputs": [
    {
     "name": "stdout",
     "output_type": "stream",
     "text": [
      "Weight: 152\n",
      "L or Kl\n",
      "Your weight is 68.4 Kgs\n"
     ]
    }
   ],
   "source": [
    "weight_in = input(\"Weight: \")\n",
    "unit_in = input( \"L or K\")\n",
    "\n",
    "if unit_in.lower() == 'l':\n",
    "    weight_out = int(weight_in)*0.45\n",
    "    unit_out = 'Kgs'\n",
    "else:\n",
    "    weight_out = int(weight_in) / 0.45\n",
    "    unit_out = 'pounds'\n",
    "\n",
    "print(\"Your weight is %s %s\" %(weight_out, unit_out))\n"
   ]
  },
  {
   "cell_type": "code",
   "execution_count": 4,
   "id": "351de9e0",
   "metadata": {},
   "outputs": [
    {
     "name": "stdout",
     "output_type": "stream",
     "text": [
      "1\n",
      "2\n",
      "3\n",
      "4\n",
      "5\n",
      "DOne\n"
     ]
    }
   ],
   "source": [
    "i = 1\n",
    "while i<=5:\n",
    "    print(i)\n",
    "    i += 1\n",
    "print(\"DOne\")"
   ]
  },
  {
   "cell_type": "code",
   "execution_count": 6,
   "id": "04e1fe91",
   "metadata": {},
   "outputs": [
    {
     "name": "stdout",
     "output_type": "stream",
     "text": [
      "Guess: 40\n",
      "Try again\n",
      "Guess: 33\n",
      "Try again\n",
      "Guess: 40\n",
      "You Lost\n"
     ]
    }
   ],
   "source": [
    "secret_number=55\n",
    "number_of_gusses=3\n",
    "i = 1\n",
    "while i<= number_of_gusses:\n",
    "    in_p= int(input(\"Guess: \"))\n",
    "    if in_p == secret_number:\n",
    "        print (\"You won\")\n",
    "        break\n",
    "    elif in_p != secret_number and i==number_of_gusses:\n",
    "        print(\"You Lost\")\n",
    "    else:\n",
    "        print (\"Try again\")\n",
    "    i +=1\n",
    "    "
   ]
  },
  {
   "cell_type": "code",
   "execution_count": 6,
   "id": "736df0b6",
   "metadata": {},
   "outputs": [
    {
     "name": "stdout",
     "output_type": "stream",
     "text": [
      ">start\n",
      "Car started\n",
      ">start\n",
      "Enter another command. Car already start ed\n",
      ">help\n",
      "start - to start the car\n",
      "stop - to stop the car\n",
      "quit - to exit\n",
      ">quit\n",
      "Successfully exited game\n"
     ]
    }
   ],
   "source": [
    "game_control=['start', 'stop', 'quit' ,'help']\n",
    "\n",
    "last_command= ''\n",
    "   \n",
    "    \n",
    "\n",
    "while True:\n",
    "    inp = input(\">\").lower()\n",
    "    if inp == last_command:\n",
    "        print(\"Enter another command. Car already %s ed\" %inp)\n",
    "    elif inp == game_control[0]:\n",
    "        print(\"Car started\")\n",
    "    elif inp == game_control[1] and last_command != inp:\n",
    "        print(\"Car stopped\")\n",
    "    elif inp == game_control[3]:\n",
    "        print('start - to start the car')\n",
    "        print('stop - to stop the car')\n",
    "        print('quit - to exit')\n",
    "    elif inp == game_control[2]:\n",
    "        print(\"Successfully exited game\")\n",
    "        break\n",
    "    else:\n",
    "        print(\"I dont understand that\")\n",
    "    last_command = inp"
   ]
  },
  {
   "cell_type": "code",
   "execution_count": 16,
   "id": "0fd314d2",
   "metadata": {},
   "outputs": [
    {
     "name": "stdout",
     "output_type": "stream",
     "text": [
      "60\n"
     ]
    }
   ],
   "source": [
    "#loop\n",
    "price = [10,20,30]\n",
    "sum = 0\n",
    "\n",
    "for item in price:\n",
    "    sum += item\n",
    "print(sum)"
   ]
  },
  {
   "cell_type": "code",
   "execution_count": 17,
   "id": "38520961",
   "metadata": {},
   "outputs": [
    {
     "name": "stdout",
     "output_type": "stream",
     "text": [
      "(0, 0)\n",
      "(0, 1)\n",
      "(0, 2)\n",
      "(1, 0)\n",
      "(1, 1)\n",
      "(1, 2)\n",
      "(2, 0)\n",
      "(2, 1)\n",
      "(2, 2)\n",
      "(3, 0)\n",
      "(3, 1)\n",
      "(3, 2)\n"
     ]
    }
   ],
   "source": [
    "#nested Loops\n",
    "for x in range(4):\n",
    "    for y in range (3):\n",
    "        print(\"(%s, %s)\" %(x ,y))"
   ]
  },
  {
   "cell_type": "code",
   "execution_count": 25,
   "id": "8bd7c0d8",
   "metadata": {},
   "outputs": [
    {
     "name": "stdout",
     "output_type": "stream",
     "text": [
      "xx\n",
      "xx\n",
      "xx\n",
      "xx\n",
      "xxxxx\n"
     ]
    }
   ],
   "source": [
    "numbers = [5,2,5,2,2]\n",
    "num1 = [2,2,2,2,5]\n",
    "\n",
    "for x in num1:\n",
    "    printline = ''\n",
    "    for times in range(x):\n",
    "        printline += 'x'\n",
    "    print(printline)\n",
    "        \n",
    "    "
   ]
  },
  {
   "cell_type": "code",
   "execution_count": 26,
   "id": "07579baf",
   "metadata": {},
   "outputs": [
    {
     "name": "stdout",
     "output_type": "stream",
     "text": [
      "5\n"
     ]
    }
   ],
   "source": [
    "largest = 0\n",
    "for number in numbers:\n",
    "    if number> largest:\n",
    "        largest = number\n",
    "print(largest)"
   ]
  },
  {
   "cell_type": "code",
   "execution_count": null,
   "id": "43058ed9",
   "metadata": {},
   "outputs": [],
   "source": []
  }
 ],
 "metadata": {
  "kernelspec": {
   "display_name": "Python 3",
   "language": "python",
   "name": "python3"
  },
  "language_info": {
   "codemirror_mode": {
    "name": "ipython",
    "version": 3
   },
   "file_extension": ".py",
   "mimetype": "text/x-python",
   "name": "python",
   "nbconvert_exporter": "python",
   "pygments_lexer": "ipython3",
   "version": "3.8.8"
  }
 },
 "nbformat": 4,
 "nbformat_minor": 5
}
